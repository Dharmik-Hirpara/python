{
 "cells": [
  {
   "cell_type": "code",
   "execution_count": 3,
   "metadata": {},
   "outputs": [
    {
     "name": "stdout",
     "output_type": "stream",
     "text": [
      "x is : True\n"
     ]
    }
   ],
   "source": [
    "x=(1==True)\n",
    "print(\"x is :\",x)"
   ]
  },
  {
   "cell_type": "code",
   "execution_count": 12,
   "metadata": {},
   "outputs": [
    {
     "name": "stdout",
     "output_type": "stream",
     "text": [
      "(3, 'dharmik', 3)\n",
      "(3, 'dharmik', 3, 4, 'Hirpara')\n"
     ]
    }
   ],
   "source": [
    "list1=(3,'dharmik',3)\n",
    "list2=(4,'Hirpara')\n",
    "print(list1)\n",
    "print(list1+list2)"
   ]
  },
  {
   "cell_type": "code",
   "execution_count": 16,
   "metadata": {},
   "outputs": [
    {
     "name": "stdout",
     "output_type": "stream",
     "text": [
      "adittion is 12\n",
      "a is not equals to b True\n"
     ]
    }
   ],
   "source": [
    "a=5\n",
    "b=7\n",
    "print(\"adittion is\",a+b)\n",
    "print(\"a is not equals to b\",a!=b)"
   ]
  },
  {
   "cell_type": "code",
   "execution_count": 21,
   "metadata": {},
   "outputs": [
    {
     "name": "stdout",
     "output_type": "stream",
     "text": [
      "5\n",
      "27\n",
      "1\n"
     ]
    }
   ],
   "source": [
    "a=5\n",
    "print(a)\n",
    "b += 4\n",
    "print(b)\n",
    "c = 7\n",
    "c -= 6\n",
    "print(c)"
   ]
  },
  {
   "cell_type": "code",
   "execution_count": 25,
   "metadata": {},
   "outputs": [
    {
     "name": "stdout",
     "output_type": "stream",
     "text": [
      "your age is 2\n",
      "you cant drive\n"
     ]
    }
   ],
   "source": [
    "a=int(input(\"Enter your age\"))\n",
    "print(\"your age is\",a)\n",
    "\n",
    "if(a>18):\n",
    "    print(\"yes you can drive\")\n",
    "\n",
    "else:\n",
    "    print(\"you cant drive\")\n",
    "\n"
   ]
  },
  {
   "cell_type": "code",
   "execution_count": 28,
   "metadata": {},
   "outputs": [
    {
     "name": "stdout",
     "output_type": "stream",
     "text": [
      "yes i can buy apple\n"
     ]
    }
   ],
   "source": [
    "a=int(input(\"Enter your budget\"))\n",
    "b=int(input(\"Applea price\"))\n",
    "\n",
    "if(b>a):\n",
    "    print(\"i cant buy apples\")\n",
    "\n",
    "else:\n",
    "    print(\"yes i can buy apple\")"
   ]
  },
  {
   "cell_type": "code",
   "execution_count": 32,
   "metadata": {},
   "outputs": [
    {
     "name": "stdout",
     "output_type": "stream",
     "text": [
      "Enter number is\n",
      "number is not divisible\n"
     ]
    }
   ],
   "source": [
    "num=int(input(\"Enter the number\"))\n",
    "print(\"Enter number is\")\n",
    "\n",
    "if (num%7==0):\n",
    "    print(\"yes number is divisible\")\n",
    "\n",
    "else:\n",
    "    print(\"number is not divisible\")"
   ]
  },
  {
   "cell_type": "code",
   "execution_count": 34,
   "metadata": {},
   "outputs": [
    {
     "name": "stdout",
     "output_type": "stream",
     "text": [
      "Entered number is\n",
      "hello\n"
     ]
    }
   ],
   "source": [
    "num=int(input(\"Enter the number \"))\n",
    "print(\"Entered number is\")\n",
    "\n",
    "if num%5==0:\n",
    "    print(\"hello\")\n",
    "\n",
    "else:\n",
    "    print(\"bye\")"
   ]
  },
  {
   "cell_type": "code",
   "execution_count": 38,
   "metadata": {},
   "outputs": [
    {
     "name": "stdout",
     "output_type": "stream",
     "text": [
      "Entered age is 30\n",
      "you are ligible for driving\n"
     ]
    }
   ],
   "source": [
    "age=int(input(\"Enter the age\"))\n",
    "print(\"Entered age is\",age)\n",
    "\n",
    "if age>18:\n",
    "    print(\"you are ligible for driving\")\n",
    "\n",
    "else:\n",
    "    print(\"You are not eligible for driving\")"
   ]
  },
  {
   "cell_type": "code",
   "execution_count": 47,
   "metadata": {},
   "outputs": [
    {
     "name": "stdout",
     "output_type": "stream",
     "text": [
      "Entered number is  4\n",
      "number is even\n"
     ]
    }
   ],
   "source": [
    "num=int(input(\"Enter the number\"))\n",
    "print(\"Entered number is \",num)\n",
    "\n",
    "if num==0:\n",
    "    print(\"number is zero\")\n",
    "\n",
    "elif num%2==0:\n",
    "    print(\"number is even\")\n",
    "\n",
    "else:\n",
    "    print(\"Number is odd\")\n"
   ]
  },
  {
   "cell_type": "code",
   "execution_count": 52,
   "metadata": {},
   "outputs": [
    {
     "name": "stdout",
     "output_type": "stream",
     "text": [
      "Entered number is 3\n",
      "number is lesser than or equals to 18\n"
     ]
    }
   ],
   "source": [
    "num=int(input(\"Enter the number\"))\n",
    "print(\"Entered number is\",num)\n",
    "\n",
    "if num<=18:\n",
    "    print(\"number is lesser than or equals to 18\")\n",
    "\n",
    "elif num!=18:\n",
    "        print(\"number is not equals to 18\")\n",
    "\n",
    "else:\n",
    "    print(\"number is greater than 18\")"
   ]
  },
  {
   "cell_type": "code",
   "execution_count": 61,
   "metadata": {},
   "outputs": [
    {
     "name": "stdout",
     "output_type": "stream",
     "text": [
      "not ok\n"
     ]
    }
   ],
   "source": [
    "num=int(input(\"Enter the number\"))\n",
    "id= num%10\n",
    "if id%3==0:\n",
    "    print(\"ok\")\n",
    "\n",
    "else:\n",
    "    print(\"not ok\")"
   ]
  },
  {
   "cell_type": "code",
   "execution_count": 64,
   "metadata": {},
   "outputs": [
    {
     "name": "stdout",
     "output_type": "stream",
     "text": [
      "Enter pattern\n",
      "1 \n",
      "1 2 \n",
      "1 2 3 \n",
      "1 2 3 4 \n",
      "1 2 3 4 5 \n"
     ]
    }
   ],
   "source": [
    "print (\"Enter pattern\")\n",
    "row = 5\n",
    "for i in range(1,row+1,1):\n",
    "    for j in range(1,i+1):\n",
    "        print(j ,end=\" \")\n",
    "    \n",
    "    print(\"\")\n",
    " \n"
   ]
  },
  {
   "cell_type": "code",
   "execution_count": 77,
   "metadata": {},
   "outputs": [
    {
     "name": "stdout",
     "output_type": "stream",
     "text": [
      "Enter pattern\n"
     ]
    }
   ],
   "source": [
    "print(\"Enter pattern\")\n",
    "row=7\n",
    "for i in range(1,row+1,-1):\n",
    "    for j in range(1,i-1):\n",
    "        print(j ,end=\" \")\n",
    "    print(\"\")"
   ]
  },
  {
   "cell_type": "code",
   "execution_count": 81,
   "metadata": {},
   "outputs": [
    {
     "name": "stdout",
     "output_type": "stream",
     "text": [
      "5\n",
      "4\n",
      "3\n",
      "2\n",
      "1\n",
      "i am in the loop\n"
     ]
    }
   ],
   "source": [
    "count=5\n",
    "while( count>0):\n",
    "    print(count)\n",
    "    count=count-1\n",
    "else:\n",
    "    print(\"i am in the loop\")"
   ]
  },
  {
   "cell_type": "code",
   "execution_count": 83,
   "metadata": {},
   "outputs": [
    {
     "name": "stdout",
     "output_type": "stream",
     "text": [
      "200 "
     ]
    }
   ],
   "source": [
    "num=200\n",
    "while num<=200:\n",
    "    print(num,end=\" \")\n",
    "    num=num+10"
   ]
  },
  {
   "cell_type": "code",
   "execution_count": 84,
   "metadata": {},
   "outputs": [
    {
     "ename": "SyntaxError",
     "evalue": "invalid syntax (3249448998.py, line 3)",
     "output_type": "error",
     "traceback": [
      "\u001b[1;36m  Cell \u001b[1;32mIn[84], line 3\u001b[1;36m\u001b[0m\n\u001b[1;33m    while= num>=1:\u001b[0m\n\u001b[1;37m         ^\u001b[0m\n\u001b[1;31mSyntaxError\u001b[0m\u001b[1;31m:\u001b[0m invalid syntax\n"
     ]
    }
   ],
   "source": [
    "num=10\n",
    "sum=0\n",
    "while= num>=1:\n",
    "    print"
   ]
  },
  {
   "cell_type": "code",
   "execution_count": 89,
   "metadata": {},
   "outputs": [
    {
     "name": "stdout",
     "output_type": "stream",
     "text": [
      "4\n",
      "6\n",
      "8\n"
     ]
    }
   ],
   "source": [
    "\n",
    "a = int(input(\"Enter the starting number: \"))\n",
    "b = int(input(\"Enter the ending number: \"))\n",
    "if a > b:\n",
    "    start, end = end, start\n",
    "\n",
    "if a % 2 != 0:\n",
    "    a += 1\n",
    "\n",
    "\n",
    "while a < b:\n",
    "    print(a)\n",
    "    a += 2  \n"
   ]
  },
  {
   "cell_type": "code",
   "execution_count": 97,
   "metadata": {},
   "outputs": [
    {
     "name": "stdout",
     "output_type": "stream",
     "text": [
      "1\n",
      "2\n"
     ]
    }
   ],
   "source": [
    "for i in range(7):\n",
    "    i+=1\n",
    "    if i==3:\n",
    "        break\n",
    "    print(i)\n",
    "   "
   ]
  }
 ],
 "metadata": {
  "kernelspec": {
   "display_name": "base",
   "language": "python",
   "name": "python3"
  },
  "language_info": {
   "codemirror_mode": {
    "name": "ipython",
    "version": 3
   },
   "file_extension": ".py",
   "mimetype": "text/x-python",
   "name": "python",
   "nbconvert_exporter": "python",
   "pygments_lexer": "ipython3",
   "version": "3.11.5"
  }
 },
 "nbformat": 4,
 "nbformat_minor": 2
}
