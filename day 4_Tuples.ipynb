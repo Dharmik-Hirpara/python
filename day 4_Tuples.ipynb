{
 "cells": [
  {
   "cell_type": "code",
   "execution_count": 8,
   "metadata": {},
   "outputs": [
    {
     "name": "stdout",
     "output_type": "stream",
     "text": [
      "['D', 'H', 'A', 'R', 'M', 'I', 'K']\n"
     ]
    }
   ],
   "source": [
    "b=\"DHARMIK\"\n",
    "a=list(b)\n",
    "print(a)"
   ]
  },
  {
   "cell_type": "code",
   "execution_count": 9,
   "metadata": {},
   "outputs": [
    {
     "name": "stdout",
     "output_type": "stream",
     "text": [
      "Entered tuple is ()\n"
     ]
    }
   ],
   "source": [
    "empty_tuple=()\n",
    "print(\"Entered tuple is\",empty_tuple)\n"
   ]
  },
  {
   "cell_type": "code",
   "execution_count": 10,
   "metadata": {},
   "outputs": [
    {
     "name": "stdout",
     "output_type": "stream",
     "text": [
      "Entered number is (1, 2, 3, 4, 5, 6)\n"
     ]
    }
   ],
   "source": [
    "int_tuple=(1,2,3,4,5,6)\n",
    "print(\"Entered number is\",int_tuple)"
   ]
  },
  {
   "cell_type": "code",
   "execution_count": 12,
   "metadata": {},
   "outputs": [
    {
     "name": "stdout",
     "output_type": "stream",
     "text": [
      "('Dharmik', {4: 5, 3: 6}, 1, 3)\n"
     ]
    }
   ],
   "source": [
    "nested_tuple=(\"Dharmik\",{4:5,3:6},1,3)\n",
    "print(nested_tuple)"
   ]
  },
  {
   "cell_type": "code",
   "execution_count": 25,
   "metadata": {},
   "outputs": [
    {
     "name": "stdout",
     "output_type": "stream",
     "text": [
      "[1, 2, 3, 4, 5, 6]\n",
      "[1, 2, 3, 7, 5, 6]\n",
      "(1, 2, 3, 7, 5, 6)\n"
     ]
    }
   ],
   "source": [
    "#convert tuple into list and them append item 7 at the index of 3\n",
    "x = (1,2,3,4,5,6)\n",
    "\n",
    "a = list(x)\n",
    "print(a)\n",
    "a[3] = 7\n",
    "print(a)\n",
    "\n",
    "x= tuple(a)\n",
    "print(x)"
   ]
  },
  {
   "cell_type": "code",
   "execution_count": 45,
   "metadata": {},
   "outputs": [
    {
     "name": "stdout",
     "output_type": "stream",
     "text": [
      "('hi', 'hello', (45, 23, 'Dharmik'), 1, 2, 3, 4, 5, 6)\n"
     ]
    }
   ],
   "source": [
    "x = (\"hi\",\"hello\",1,2,3,4,5,6)\n",
    "a = list(x)\n",
    "\n",
    "a.insert(2,(45,23,\"Dharmik\"))\n",
    "\n",
    "x=tuple(a)\n",
    "print(x)"
   ]
  },
  {
   "cell_type": "code",
   "execution_count": 41,
   "metadata": {},
   "outputs": [
    {
     "name": "stdout",
     "output_type": "stream",
     "text": [
      "('hi', 'hello', 1, 2, 3, 4, 5, 6, 2, 45, 23)\n"
     ]
    }
   ],
   "source": [
    "x = (\"hi\",\"hello\",1,2,3,4,5,6)\n",
    "a = list(x)\n",
    "\n",
    "a.extend((2,45,23))\n",
    "\n",
    "x=tuple(a)\n",
    "print(x)"
   ]
  },
  {
   "cell_type": "code",
   "execution_count": 48,
   "metadata": {},
   "outputs": [
    {
     "name": "stdout",
     "output_type": "stream",
     "text": [
      "('hi', 'hello', 1, 2, 3, 4, 5, 6, [2, 3, 4])\n"
     ]
    }
   ],
   "source": [
    "x = (\"hi\",\"hello\",1,2,3,4,5,6)\n",
    "a = list(x)\n",
    "\n",
    "a.append([2,3,4])\n",
    "\n",
    "x=tuple(a)\n",
    "print(x)"
   ]
  },
  {
   "cell_type": "code",
   "execution_count": 50,
   "metadata": {},
   "outputs": [
    {
     "name": "stdout",
     "output_type": "stream",
     "text": [
      "1\n"
     ]
    }
   ],
   "source": [
    "#Accesimg tuple elements\n",
    "x=(1,2,3,4,5)\n",
    "print(x[0])"
   ]
  },
  {
   "cell_type": "code",
   "execution_count": 52,
   "metadata": {},
   "outputs": [
    {
     "name": "stdout",
     "output_type": "stream",
     "text": [
      "1\n",
      "2\n",
      "3\n",
      "4\n",
      "5\n",
      "6\n"
     ]
    }
   ],
   "source": [
    "# using iteration how it works\n",
    "x=(1,2,3,4,5,6)\n",
    "for i in x:\n",
    "    print(i)"
   ]
  },
  {
   "cell_type": "code",
   "execution_count": 70,
   "metadata": {},
   "outputs": [
    {
     "name": "stdout",
     "output_type": "stream",
     "text": [
      "First occurrence of 3 is 3\n",
      "First occurrence of 3  after 4th index is: 7\n"
     ]
    }
   ],
   "source": [
    " \n",
    "Tuple_data = (0, 1, 2, 3, 2, 3, 1, 3, 2) \n",
    "\n",
    "res = Tuple_data.index(3)  \n",
    "print('First occurrence of 3 is', res)  \n",
    "\n",
    "res = Tuple_data.index(3, 7)  \n",
    "print('First occurrence of 3  after 4th index is:', res)  "
   ]
  },
  {
   "cell_type": "code",
   "execution_count": 78,
   "metadata": {},
   "outputs": [
    {
     "name": "stdout",
     "output_type": "stream",
     "text": [
      "True\n",
      "False\n"
     ]
    }
   ],
   "source": [
    "# exaple of membership in tuple\n",
    "tup1=\"Dharmik\",\"Hirpara\",\"Bobby\"\n",
    "print(\"Dharmik\" in tup1)\n",
    "print(\"Bobbyyy\" in tup1)"
   ]
  },
  {
   "cell_type": "code",
   "execution_count": 80,
   "metadata": {},
   "outputs": [
    {
     "name": "stdout",
     "output_type": "stream",
     "text": [
      "1\n",
      "2\n",
      "3\n",
      "4\n",
      "5\n",
      "6\n"
     ]
    }
   ],
   "source": [
    "# using iteraye over the element\n",
    "t=(1,2,3,4,5,6)\n",
    "for item in t:\n",
    "    print(item)"
   ]
  },
  {
   "cell_type": "code",
   "execution_count": 83,
   "metadata": {},
   "outputs": [
    {
     "name": "stdout",
     "output_type": "stream",
     "text": [
      "('Python', 'Tuple', 'Ordered', 'Immutable', [1, 2, 10, 4])\n",
      "('Python', 'Items')\n"
     ]
    }
   ],
   "source": [
    "    \n",
    "tuple_ = (\"Python\", \"Tuple\", \"Ordered\", \"Immutable\", [1,2,3,4])    \n",
    "        \n",
    "    \n",
    "tuple_[-1][2] = 10     \n",
    "print(tuple_)    \n",
    "   \n",
    "tuple_ = (\"Python\", \"Items\")    \n",
    "print(tuple_)    "
   ]
  },
  {
   "cell_type": "code",
   "execution_count": 85,
   "metadata": {},
   "outputs": [
    {
     "name": "stdout",
     "output_type": "stream",
     "text": [
      "(1, 2, 3, 4, 5, 6, 7, 8)\n"
     ]
    }
   ],
   "source": [
    "#adding tuple as tuple\n",
    "a=(1,2,3,4,5)\n",
    "print(a+(6,7,8))"
   ]
  },
  {
   "cell_type": "code",
   "execution_count": 95,
   "metadata": {},
   "outputs": [
    {
     "name": "stdout",
     "output_type": "stream",
     "text": [
      "(6, 5, 4, 3, 2, 1)\n"
     ]
    }
   ],
   "source": [
    "#reverse the tuple\n",
    "tuple1 = (1,2,3,4,5,6)\n",
    "tuple2 = tuple1[ ::-1]\n",
    "print(tuple2)"
   ]
  },
  {
   "cell_type": "code",
   "execution_count": 98,
   "metadata": {},
   "outputs": [
    {
     "name": "stdout",
     "output_type": "stream",
     "text": [
      "20\n"
     ]
    }
   ],
   "source": [
    "tuple1 = (\"Orange\", [10, 20, 30], (5, 15, 25))\n",
    "tuple2 = tuple1[1][1]\n",
    "print(tuple2)"
   ]
  },
  {
   "cell_type": "code",
   "execution_count": 102,
   "metadata": {},
   "outputs": [
    {
     "name": "stdout",
     "output_type": "stream",
     "text": [
      "50\n"
     ]
    }
   ],
   "source": [
    "tuple1= 50\n",
    "print(tuple1)"
   ]
  },
  {
   "cell_type": "code",
   "execution_count": 111,
   "metadata": {},
   "outputs": [
    {
     "name": "stdout",
     "output_type": "stream",
     "text": [
      "1\n",
      "2\n",
      "3\n",
      "4\n"
     ]
    }
   ],
   "source": [
    "# Unpack the tuple into 4 variables\n",
    "tuple1= 1,2,3,4\n",
    "a,b,c,d = tuple1\n",
    "print(a)\n",
    "print(b)\n",
    "print(c)\n",
    "print(d)\n"
   ]
  },
  {
   "cell_type": "code",
   "execution_count": 120,
   "metadata": {},
   "outputs": [
    {
     "name": "stdout",
     "output_type": "stream",
     "text": [
      "tuple1 (88, 99)\n",
      "tuple2 (11, 22)\n"
     ]
    }
   ],
   "source": [
    "# swaping of tuples\n",
    "tuple1 = (11,22)\n",
    "tuple2 = (88,99)\n",
    "\n",
    "tuple1, tuple2 = tuple2, tuple1\n",
    "print(\"tuple1\",tuple1)\n",
    "print(\"tuple2\",tuple2)"
   ]
  },
  {
   "cell_type": "code",
   "execution_count": 129,
   "metadata": {},
   "outputs": [
    {
     "name": "stdout",
     "output_type": "stream",
     "text": [
      "(5, 6)\n"
     ]
    }
   ],
   "source": [
    "tuple=(1,2,3,4,2,5,2,6,7)\n",
    "print(tuple[4:-1])\n"
   ]
  },
  {
   "cell_type": "code",
   "execution_count": 132,
   "metadata": {},
   "outputs": [
    {
     "name": "stdout",
     "output_type": "stream",
     "text": [
      "(11, [222, 33], 44, 55)\n"
     ]
    }
   ],
   "source": [
    "# replace \n",
    "tuple1 = (11, [22, 33], 44, 55)\n",
    "tuple1[1][0] = 222\n",
    "print(tuple1)"
   ]
  },
  {
   "cell_type": "code",
   "execution_count": 136,
   "metadata": {},
   "outputs": [
    {
     "name": "stdout",
     "output_type": "stream",
     "text": [
      "2\n"
     ]
    }
   ],
   "source": [
    "tuple1 = (50, 10, 60, 70, 50)\n",
    "print(tuple1.count(50))"
   ]
  }
 ],
 "metadata": {
  "kernelspec": {
   "display_name": "base",
   "language": "python",
   "name": "python3"
  },
  "language_info": {
   "codemirror_mode": {
    "name": "ipython",
    "version": 3
   },
   "file_extension": ".py",
   "mimetype": "text/x-python",
   "name": "python",
   "nbconvert_exporter": "python",
   "pygments_lexer": "ipython3",
   "version": "3.11.5"
  }
 },
 "nbformat": 4,
 "nbformat_minor": 2
}
