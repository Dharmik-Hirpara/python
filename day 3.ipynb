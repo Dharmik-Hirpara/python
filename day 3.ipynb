{
 "cells": [
  {
   "cell_type": "code",
   "execution_count": 2,
   "metadata": {},
   "outputs": [
    {
     "name": "stdout",
     "output_type": "stream",
     "text": [
      "Age is  45\n",
      "person is eligible for voting\n"
     ]
    }
   ],
   "source": [
    "a=int(input(\"Enter the age\"))\n",
    "print (\"Age is \",a)\n",
    "\n",
    "if(a>18):\n",
    "    print(\"person is eligible for voting\")\n",
    "\n",
    "else:\n",
    "    (\"person is not eligible for voating\")"
   ]
  },
  {
   "cell_type": "code",
   "execution_count": 5,
   "metadata": {},
   "outputs": [
    {
     "name": "stdout",
     "output_type": "stream",
     "text": [
      "Entered number is 4\n",
      "Number is even\n"
     ]
    }
   ],
   "source": [
    "a=int(input(\"Enter the number\"))\n",
    "print(\"Entered number is\",a)\n",
    "\n",
    "if(a%2==0):\n",
    "    print(\"Number is even\")\n",
    "\n",
    "else:\n",
    "    print(\"Number is odd \")\n"
   ]
  },
  {
   "cell_type": "code",
   "execution_count": 8,
   "metadata": {},
   "outputs": [
    {
     "name": "stdout",
     "output_type": "stream",
     "text": [
      "Entered number is: 30\n",
      "Number is not divisible by 7\n"
     ]
    }
   ],
   "source": [
    "a=int(input(\"enter the number\"))\n",
    "print(\"Entered number is:\",a)\n",
    "\n",
    "if a%7==0:\n",
    "    print(\"Number is divisible by 7\")\n",
    "else:\n",
    "    print(\"Number is not divisible by 7\")\n"
   ]
  },
  {
   "cell_type": "code",
   "execution_count": 13,
   "metadata": {},
   "outputs": [
    {
     "name": "stdout",
     "output_type": "stream",
     "text": [
      "Entered number is 56\n",
      "Bye\n"
     ]
    }
   ],
   "source": [
    "a=int(input(\"Enter the number\"))\n",
    "print(\"Entered number is\",a)\n",
    "\n",
    "if a%5==0:\n",
    "    print(\"hello\")\n",
    "else:\n",
    "    print(\"Bye\")"
   ]
  },
  {
   "cell_type": "code",
   "execution_count": 16,
   "metadata": {},
   "outputs": [
    {
     "name": "stdout",
     "output_type": "stream",
     "text": [
      "unit is: 300\n",
      "Amount to pay is: 1000\n"
     ]
    }
   ],
   "source": [
    "Amount=0\n",
    "unit=int(input(\"Enter units\"))\n",
    "print(\"unit is:\",unit)\n",
    "\n",
    "if unit<100:\n",
    "    Amount=0\n",
    "\n",
    "elif unit>100 and unit<=200:\n",
    "    Amount=(unit-100)*5\n",
    "\n",
    "elif unit>200:\n",
    "    Amount=(unit-200)*10\n",
    "\n",
    "print(\"Amount to pay is:\",Amount)\n"
   ]
  },
  {
   "cell_type": "code",
   "execution_count": 29,
   "metadata": {},
   "outputs": [
    {
     "name": "stdout",
     "output_type": "stream",
     "text": [
      "Entered number is: 56\n",
      "Last digit is: 6\n"
     ]
    }
   ],
   "source": [
    "number=int(input(\"Enter the nuber\"))\n",
    "print(\"Entered number is:\",number)\n",
    "print(\"Last digit is:\",number%10)\n"
   ]
  },
  {
   "cell_type": "code",
   "execution_count": 34,
   "metadata": {},
   "outputs": [
    {
     "name": "stdout",
     "output_type": "stream",
     "text": [
      "Entered number is 46\n",
      "Number is not divisible by 3\n"
     ]
    }
   ],
   "source": [
    "a=int(input(\"Enter the number is\"))\n",
    "print(\"Entered number is\",a)\n",
    "\n",
    "if a%3==0:\n",
    "    print(\"Number is divisible of 3\")\n",
    "\n",
    "else:\n",
    "    print(\"Number is not divisible by 3\")"
   ]
  },
  {
   "cell_type": "code",
   "execution_count": 36,
   "metadata": {},
   "outputs": [
    {
     "name": "stdout",
     "output_type": "stream",
     "text": [
      "Entered marks is 40\n",
      "Grade D\n"
     ]
    }
   ],
   "source": [
    "a=int(input(\"Enter the marks:\"))\n",
    "print(\"Entered marks is\",a )\n",
    "\n",
    "if a>90:\n",
    "    print(\"Grade A\")\n",
    "\n",
    "elif a>80 and a<=90:\n",
    "    print(\"Grade B\")\n",
    "\n",
    "elif a>=60 and a<=80:\n",
    "    print(\"Grade C\")\n",
    "\n",
    "elif a<60:\n",
    "    print(\"Grade D\")\n",
    "\n"
   ]
  },
  {
   "cell_type": "code",
   "execution_count": 1,
   "metadata": {},
   "outputs": [
    {
     "name": "stdout",
     "output_type": "stream",
     "text": [
      "Price is: 50000\n",
      "Road tax to be paid is: 7500.0\n"
     ]
    }
   ],
   "source": [
    "p=int(input(\"Enter the price\"))\n",
    "print(\"Price is:\",p)\n",
    "\n",
    "if p>1000:\n",
    "    p= 15/100*p\n",
    "\n",
    "elif p>50000 and p<=100000:\n",
    "    p= 10/100*p\n",
    "\n",
    "elif p<=50000:\n",
    "    p= 5/100*p\n",
    "\n",
    "print(\"Road tax to be paid is:\",p)\n"
   ]
  },
  {
   "cell_type": "code",
   "execution_count": 8,
   "metadata": {},
   "outputs": [
    {
     "name": "stdout",
     "output_type": "stream",
     "text": [
      "Enter the year is: 59\n",
      "year is not leap year\n"
     ]
    }
   ],
   "source": [
    "year=int(input(\"Enter the year\"))\n",
    "print(\"Enter the year is:\",year)\n",
    "\n",
    "if year%4==0 and year%100!=0 or year%400==0:\n",
    "    print(\"Year is leap year\")\n",
    "\n",
    "else:\n",
    "    print(\"year is not leap year\")"
   ]
  },
  {
   "cell_type": "code",
   "execution_count": 10,
   "metadata": {},
   "outputs": [
    {
     "name": "stdout",
     "output_type": "stream",
     "text": [
      "Enter the day:\n"
     ]
    }
   ],
   "source": [
    "num=int(input(\"Enter the day\"))\n",
    "print(\"Enter the day:\")\n",
    "\n",
    "if num==1:\n",
    "    print(\"sunday\")\n",
    "\n",
    "if num==2:\n",
    "    print(\"Monday\")\n",
    "\n",
    "if num==3:\n",
    "    print(\"Tuesday\")\n",
    "\n",
    "if num==4:\n",
    "    print(\"Wednesday\")\n",
    "\n",
    "if num==5:\n",
    "    print(\"Thurday\")\n"
   ]
  },
  {
   "cell_type": "code",
   "execution_count": 5,
   "metadata": {},
   "outputs": [
    {
     "name": "stdout",
     "output_type": "stream",
     "text": [
      "abc,bcs,abg\n"
     ]
    }
   ],
   "source": [
    "#string formating uding formate method\n",
    "print(\"{a},{b},{c}\".format(a=\"abc\",b=\"bcs\",c=\"abg\"))"
   ]
  },
  {
   "cell_type": "code",
   "execution_count": 7,
   "metadata": {},
   "outputs": [
    {
     "name": "stdout",
     "output_type": "stream",
     "text": [
      "Hirpara,dharmik\n"
     ]
    }
   ],
   "source": [
    "print(\"{1},{0}\".format(\"dharmik\",\"Hirpara\"))"
   ]
  },
  {
   "cell_type": "code",
   "execution_count": 13,
   "metadata": {},
   "outputs": [
    {
     "name": "stdout",
     "output_type": "stream",
     "text": [
      "[1, 2, 3, 4, 5, 6, 7]\n",
      "[1, 2, 10, 4, 5, 6, 7]\n",
      "[1, 2, 10, 4, 5, 6, 7]\n"
     ]
    }
   ],
   "source": [
    "list=[1,2,3,4,5,6,7]\n",
    "print(list)\n",
    " \n",
    "list[2]=10\n",
    "print(list)\n",
    "\n",
    "list[1:5]\n",
    "print(list)\n",
    "\n",
    "\n"
   ]
  },
  {
   "cell_type": "code",
   "execution_count": 15,
   "metadata": {},
   "outputs": [
    {
     "name": "stdout",
     "output_type": "stream",
     "text": [
      "True\n"
     ]
    }
   ],
   "source": [
    "list=[1,2,3,4,5,6]\n",
    "print(6 in list)"
   ]
  },
  {
   "cell_type": "code",
   "execution_count": 18,
   "metadata": {},
   "outputs": [
    {
     "name": "stdout",
     "output_type": "stream",
     "text": [
      "yes\n"
     ]
    }
   ],
   "source": [
    "lst=((\"Dharmik\",\"Arvind\",\"Hirpara\"))\n",
    "if \"Dharmik\" in lst:\n",
    "    print(\"yes\")\n",
    "else:\n",
    "    print(\"no\")\n",
    "\n"
   ]
  },
  {
   "cell_type": "code",
   "execution_count": 23,
   "metadata": {},
   "outputs": [
    {
     "name": "stdout",
     "output_type": "stream",
     "text": [
      "Combined list is:  Dharmik Hirpara\n"
     ]
    }
   ],
   "source": [
    "lst1=(\"Dharmik\")\n",
    "lst2=(\" Hirpara\")\n",
    "combinedlist= lst1+ lst2\n",
    "print(\"Combined list is: \",combinedlist)"
   ]
  },
  {
   "cell_type": "code",
   "execution_count": 31,
   "metadata": {},
   "outputs": [
    {
     "name": "stdout",
     "output_type": "stream",
     "text": [
      "[1, 2, 3, 1, 2, 3, 1, 2, 3]\n"
     ]
    }
   ],
   "source": [
    "lst=[1,2,3]\n",
    "lst2= lst*3\n",
    "print(lst2)"
   ]
  },
  {
   "cell_type": "code",
   "execution_count": 30,
   "metadata": {},
   "outputs": [
    {
     "name": "stdout",
     "output_type": "stream",
     "text": [
      "[1, 2, 3, 4, 5]\n"
     ]
    }
   ],
   "source": [
    "lst=[1,2,3,4]\n",
    "lst.append(5)\n",
    "print(lst)"
   ]
  },
  {
   "cell_type": "code",
   "execution_count": 36,
   "metadata": {},
   "outputs": [
    {
     "name": "stdout",
     "output_type": "stream",
     "text": [
      "[1, 2, 7, 3, 4]\n"
     ]
    }
   ],
   "source": [
    "lst=[1,2,3,4]\n",
    "lst.insert(2,7)\n",
    "print(lst)"
   ]
  },
  {
   "cell_type": "code",
   "execution_count": null,
   "metadata": {},
   "outputs": [],
   "source": []
  },
  {
   "cell_type": "code",
   "execution_count": 67,
   "metadata": {},
   "outputs": [
    {
     "name": "stdout",
     "output_type": "stream",
     "text": [
      "mn\n"
     ]
    }
   ],
   "source": [
    "str1=\"morning\"\n",
    "str2=str1[0:6:3]\n",
    "print(str2)"
   ]
  },
  {
   "cell_type": "code",
   "execution_count": 47,
   "metadata": {},
   "outputs": [
    {
     "name": "stdout",
     "output_type": "stream",
     "text": [
      "['Dhartmik', 'Hirpara', 'jfjh']\n"
     ]
    }
   ],
   "source": [
    "lst=[\"Dhartmik\",\"Hirpara\"]\n",
    "lst.insert(2,\"jfjh\")\n",
    "# lst.extend(lst2)\n",
    "print(lst)"
   ]
  },
  {
   "cell_type": "code",
   "execution_count": 68,
   "metadata": {},
   "outputs": [
    {
     "name": "stdout",
     "output_type": "stream",
     "text": [
      "[1, 2, 3, 3, 4, 5, 6]\n",
      "[1, 2, 3, 3, 5, 6]\n"
     ]
    }
   ],
   "source": [
    "lst=[1,2,3,3,4,5,6,7]\n",
    "lst.pop()\n",
    "print(lst)\n",
    "\n",
    "lst.pop(4)\n",
    "print(lst)"
   ]
  },
  {
   "cell_type": "code",
   "execution_count": 73,
   "metadata": {},
   "outputs": [
    {
     "name": "stdout",
     "output_type": "stream",
     "text": [
      "[2, 4, 6, 8, 10]\n"
     ]
    }
   ],
   "source": [
    "lst1=[1,2,3,4,5,6,7,8,9,10]\n",
    "lst2=lst1[1:11:2]\n",
    "print(lst2)"
   ]
  },
  {
   "cell_type": "code",
   "execution_count": 82,
   "metadata": {},
   "outputs": [
    {
     "name": "stdout",
     "output_type": "stream",
     "text": [
      "26\n"
     ]
    }
   ],
   "source": [
    "lst=[1,7,-10,34,2,-8]\n",
    "sum=0\n",
    "for i in lst:\n",
    "  sum+= i\n",
    "print(sum)"
   ]
  },
  {
   "cell_type": "code",
   "execution_count": 99,
   "metadata": {},
   "outputs": [
    {
     "name": "stdout",
     "output_type": "stream",
     "text": [
      "24\n"
     ]
    }
   ],
   "source": [
    "lst=[1,2,3,4]\n",
    "total=1\n",
    "for i in lst:\n",
    "  total*= i\n",
    "print(total)"
   ]
  },
  {
   "cell_type": "code",
   "execution_count": 105,
   "metadata": {},
   "outputs": [
    {
     "name": "stdout",
     "output_type": "stream",
     "text": [
      "34\n"
     ]
    }
   ],
   "source": [
    "lst=[1,7,10,34,2,8]\n",
    "print(max(lst))"
   ]
  },
  {
   "cell_type": "code",
   "execution_count": 107,
   "metadata": {},
   "outputs": [
    {
     "name": "stdout",
     "output_type": "stream",
     "text": [
      "1\n"
     ]
    }
   ],
   "source": [
    "lst=[1,4,56,78]\n",
    "print(min(lst))"
   ]
  },
  {
   "cell_type": "code",
   "execution_count": 117,
   "metadata": {},
   "outputs": [
    {
     "name": "stdout",
     "output_type": "stream",
     "text": [
      "max number is 5\n"
     ]
    }
   ],
   "source": [
    "lst=[1,2,3,4,5]\n",
    "print(\"max number is\",max(lst))"
   ]
  }
 ],
 "metadata": {
  "kernelspec": {
   "display_name": "base",
   "language": "python",
   "name": "python3"
  },
  "language_info": {
   "codemirror_mode": {
    "name": "ipython",
    "version": 3
   },
   "file_extension": ".py",
   "mimetype": "text/x-python",
   "name": "python",
   "nbconvert_exporter": "python",
   "pygments_lexer": "ipython3",
   "version": "3.11.5"
  }
 },
 "nbformat": 4,
 "nbformat_minor": 2
}
